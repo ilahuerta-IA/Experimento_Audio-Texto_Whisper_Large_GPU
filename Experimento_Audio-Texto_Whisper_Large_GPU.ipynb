{
  "nbformat": 4,
  "nbformat_minor": 0,
  "metadata": {
    "colab": {
      "provenance": [],
      "gpuType": "T4"
    },
    "kernelspec": {
      "name": "python3",
      "display_name": "Python 3"
    },
    "language_info": {
      "name": "python"
    },
    "accelerator": "GPU"
  },
  "cells": [
    {
      "cell_type": "markdown",
      "source": [
        "# Experimento: Transcripción con Whisper 'large' en GPU (Colab)\n",
        "\n",
        "Este cuaderno te guía paso a paso para ejecutar el modelo `large` de OpenAI Whisper en una GPU gratuita de Google Colab. El objetivo es replicar un experimento básico para:\n",
        "\n",
        "1.  **Medir el tiempo de carga** del modelo `large`.\n",
        "2.  **Medir el tiempo de transcripción** de un archivo de audio de ejemplo.\n",
        "3.  **Observar el uso de recursos** (VRAM de la GPU y RAM del sistema).\n",
        "4.  **Evaluar la calidad** de la transcripción resultante.\n",
        "\n",
        "Está basado en el proyecto [Audio-WhatsApp-a-texto](https://github.com/ilahuerta-IA/Audio-WhatsApp-a-texto), utilizando algunos de sus módulos auxiliares.\n",
        "\n",
        "**¡Importante!** Asegúrate de haber configurado el entorno de ejecución para usar una **GPU** (`Entorno de ejecución` -> `Cambiar tipo de entorno de ejecución` -> `GPU`)."
      ],
      "metadata": {
        "id": "woYfwDuzQ5Dw"
      }
    },
    {
      "cell_type": "code",
      "execution_count": null,
      "metadata": {
        "id": "dVusWNNlDOVT"
      },
      "outputs": [],
      "source": [
        "# -*- coding: utf-8 -*-\n",
        "# Celda 2: Verificar GPU y Clonar Repositorio Base\n",
        "\n",
        "import torch\n",
        "import os\n",
        "\n",
        "# Verificar si la GPU está disponible\n",
        "if torch.cuda.is_available():\n",
        "    print(f\"GPU detectada: {torch.cuda.get_device_name(0)}\")\n",
        "    DEVICE = \"cuda\"\n",
        "else:\n",
        "    print(\"ADVERTENCIA: No se detectó GPU. Selecciona una GPU en 'Entorno de ejecución'.\")\n",
        "    print(\"El modelo 'large' NO funcionará razonablemente en CPU.\")\n",
        "    DEVICE = \"cpu\" # Continuar en CPU es solo para fines demostrativos del código\n",
        "\n",
        "# Clonar el repositorio original que contiene los módulos auxiliares\n",
        "# (solo necesitamos audio_handler.py y config.py de él)\n",
        "repo_url = \"https://github.com/ilahuerta-IA/Audio-WhatsApp-a-texto.git\"\n",
        "repo_name = \"Audio-WhatsApp-a-texto\"\n",
        "if not os.path.exists(repo_name):\n",
        "    print(f\"Clonando repositorio desde {repo_url}...\")\n",
        "    !git clone {repo_url}\n",
        "else:\n",
        "    print(f\"Directorio '{repo_name}' ya existe.\")\n",
        "\n",
        "# Cambiar al directorio del repositorio clonado\n",
        "try:\n",
        "    os.chdir(repo_name)\n",
        "    print(f\"Directorio de trabajo cambiado a: {os.getcwd()}\")\n",
        "except FileNotFoundError:\n",
        "    print(f\"ERROR: No se pudo cambiar al directorio '{repo_name}'. ¿Falló la clonación?\")"
      ]
    },
    {
      "cell_type": "markdown",
      "source": [
        "### Paso 1: Instalar Dependencias\n",
        "\n",
        "Necesitamos instalar algunas herramientas:\n",
        "*   `ffmpeg`: Esencial para que `pydub` pueda leer y convertir diferentes formatos de audio.\n",
        "*   `openai-whisper`: La librería principal para la transcripción.\n",
        "*   `pydub`: Para manejar la conversión de audio a WAV, formato preferido por Whisper."
      ],
      "metadata": {
        "id": "kXvA36rqRodT"
      }
    },
    {
      "cell_type": "code",
      "source": [
        "# Celda 4: Instalar ffmpeg, whisper y pydub\n",
        "\n",
        "print(\"Instalando ffmpeg...\")\n",
        "!apt-get update -qq && apt-get install -y ffmpeg -qq\n",
        "print(\"Instalando openai-whisper y pydub...\")\n",
        "!pip install -U openai-whisper pydub -q\n",
        "\n",
        "print(\"\\nDependencias instaladas.\")"
      ],
      "metadata": {
        "id": "FgixeDImD1O_"
      },
      "execution_count": null,
      "outputs": []
    },
    {
      "cell_type": "markdown",
      "source": [
        "### Paso 2: Sube tu Archivo de Audio\n",
        "\n",
        "Ahora es el momento de **subir tu propio archivo de audio** a Colab.\n",
        "\n",
        "1.  Mira el panel de la izquierda y busca el icono de **Carpeta** (`Archivos`).\n",
        "2.  Haz clic en el icono **Subir** (📄↑).\n",
        "3.  Selecciona el archivo de audio desde tu ordenador (`.mp3`, `.wav`, `.m4a`, `.ogg`, etc.).\n",
        "4.  Espera a que termine la subida. El archivo aparecerá en el panel de archivos, normalmente en la carpeta `/content/` (o dentro de la carpeta `Audio-WhatsApp-a-texto` si la tenías seleccionada al subir).\n",
        "5.  **¡MUY IMPORTANTE!** Haz clic derecho sobre el archivo subido y selecciona **`Copiar ruta`**. Necesitarás esta ruta en la siguiente celda."
      ],
      "metadata": {
        "id": "AHRsdfyJSOvX"
      }
    },
    {
      "cell_type": "code",
      "source": [
        "# Celda 6: Configurar Experimento y Cargar Módulos\n",
        "\n",
        "import pathlib\n",
        "import time\n",
        "import sys\n",
        "import os\n",
        "\n",
        "# --- ¡¡MODIFICA ESTA LÍNEA CON LA RUTA DE TU ARCHIVO!! ---\n",
        "# Pega aquí la ruta que copiaste en el paso anterior.\n",
        "# Ejemplo: \"/content/mi_audio_subido.mp3\" o \"/content/Audio-WhatsApp-a-texto/mi_audio.wav\"\n",
        "RUTA_AUDIO_ORIGINAL_STR = \"/content/mi_audio.wav\" # <-- ¡¡CAMBIA ESTO!!\n",
        "# ---------------------------------------------------------\n",
        "\n",
        "MODELO_A_PROBAR = \"large\"\n",
        "# La Tesla T4 soporta FP16, puede ser más rápido y usar menos VRAM.\n",
        "# Ponlo en False si quieres comparar o si usas una GPU más antigua (como K80).\n",
        "USE_FP16 = False if DEVICE == \"cpu\" else True # Usar True por defecto en GPU\n",
        "\n",
        "# --- Añadir directorio actual (donde están los .py clonados) a sys.path ---\n",
        "repo_directorio = os.getcwd() # Ya estamos dentro del dir clonado\n",
        "if repo_directorio not in sys.path:\n",
        "    sys.path.insert(0, repo_directorio)\n",
        "    print(f\"Directorio '{repo_directorio}' añadido a sys.path.\")\n",
        "\n",
        "# --- Importar Módulos Auxiliares ---\n",
        "try:\n",
        "    import audio_handler\n",
        "    import config\n",
        "    print(\"Módulos auxiliares importados correctamente.\")\n",
        "except ImportError as e:\n",
        "    print(f\"ERROR importando módulos: {e}. Asegúrate de estar en el directorio correcto.\")\n",
        "\n",
        "# --- Validar Ruta y Crear Variables ---\n",
        "try:\n",
        "    ruta_audio_original = pathlib.Path(RUTA_AUDIO_ORIGINAL_STR)\n",
        "    if not ruta_audio_original.is_file():\n",
        "         raise FileNotFoundError(f\"¡Archivo no encontrado en la ruta especificada! Verifica RUTA_AUDIO_ORIGINAL_STR.\")\n",
        "    else:\n",
        "        print(f\"Archivo de audio a procesar: {ruta_audio_original}\")\n",
        "except Exception as e:\n",
        "    print(f\"Error con la ruta del archivo: {e}\")\n",
        "    ruta_audio_original = None\n",
        "\n",
        "# Variables para resultados\n",
        "modelo_cargado = None\n",
        "ruta_audio_wav = None\n",
        "tiempo_carga_modelo = 0\n",
        "tiempo_transcripcion = 0\n",
        "resultado_transcripcion = None\n",
        "\n",
        "print(f\"\\nConfiguración lista. Modelo a usar: '{MODELO_A_PROBAR}', Dispositivo: {DEVICE}, FP16: {USE_FP16}\")"
      ],
      "metadata": {
        "id": "Y-wq9yLyD-jC"
      },
      "execution_count": null,
      "outputs": []
    },
    {
      "cell_type": "markdown",
      "source": [
        "### Paso 3: Convertir Audio a WAV\n",
        "\n",
        "Whisper funciona mejor con archivos WAV. Usaremos el módulo `audio_handler` (del repositorio base) para convertir tu archivo subido a un formato WAV temporal estándar."
      ],
      "metadata": {
        "id": "QsQNCKaWSqwC"
      }
    },
    {
      "cell_type": "code",
      "source": [
        "# Celda 8: Convertir a WAV\n",
        "\n",
        "if ruta_audio_original:\n",
        "    print(f\"Convirtiendo {ruta_audio_original.name} a WAV temporal...\")\n",
        "    start_time_convert = time.time()\n",
        "    ruta_audio_wav = audio_handler.convert_to_wav_if_needed(ruta_audio_original)\n",
        "    end_time_convert = time.time()\n",
        "\n",
        "    if ruta_audio_wav and ruta_audio_wav.exists():\n",
        "        print(f\"Audio convertido a: {ruta_audio_wav} en {end_time_convert - start_time_convert:.2f} segundos.\")\n",
        "    else:\n",
        "        print(\"Error: Falló la conversión a WAV.\")\n",
        "else:\n",
        "    print(\"Error: No hay ruta de audio original válida para convertir.\")"
      ],
      "metadata": {
        "id": "cJf5RI2UFWtf"
      },
      "execution_count": null,
      "outputs": []
    },
    {
      "cell_type": "markdown",
      "source": [
        "### Paso 4: Cargar Modelo Whisper 'large'\n",
        "\n",
        "Ahora cargaremos el modelo `large` en la memoria de la GPU (o CPU si no hay GPU). Mediremos cuánto tiempo tarda este proceso.\n",
        "\n",
        "**¡Atención!** Durante la ejecución de esta celda:\n",
        "*   **Observa los indicadores `RAM` y `GPU RAM`** en la esquina superior derecha de Colab. Anota el uso máximo que veas.\n",
        "*   Whisper descargará el modelo si es la primera vez que se usa en esta sesión (puede tardar un poco)."
      ],
      "metadata": {
        "id": "IJptwc5pSzsf"
      }
    },
    {
      "cell_type": "code",
      "source": [
        "# Celda 10: Cargar Modelo y Medir Tiempo/Recursos\n",
        "\n",
        "import whisper # Asegurarnos de importar la librería principal\n",
        "\n",
        "if DEVICE != \"cpu\": # Solo cargar si hay GPU o si aceptamos la lentitud de CPU\n",
        "    print(f\"\\n--- Cargando modelo Whisper '{MODELO_A_PROBAR}' en {DEVICE} ---\")\n",
        "    start_time_load = time.time()\n",
        "    try:\n",
        "        # Carga directa usando la librería whisper\n",
        "        modelo_cargado = whisper.load_model(MODELO_A_PROBAR, device=DEVICE)\n",
        "        end_time_load = time.time()\n",
        "        tiempo_carga_modelo = end_time_load - start_time_load\n",
        "        print(f\"Modelo '{MODELO_A_PROBAR}' cargado en {tiempo_carga_modelo:.2f} segundos.\")\n",
        "\n",
        "        print(\"\\n>> ¡REVISA AHORA los indicadores RAM y GPU RAM de Colab para ver el uso MÁXIMO durante la carga! <<\")\n",
        "        print(\"Salida de nvidia-smi (uso de VRAM actual):\")\n",
        "        !nvidia-smi --query-gpu=memory.used,memory.total --format=csv,noheader,nounits\n",
        "\n",
        "    except Exception as e:\n",
        "        print(f\"Error crítico al cargar el modelo: {e}\")\n",
        "        modelo_cargado = None\n",
        "else:\n",
        "    print(\"Proceso detenido porque no se detectó GPU o se eligió CPU (no recomendado para 'large').\")"
      ],
      "metadata": {
        "id": "-jnbn9UELeL2"
      },
      "execution_count": null,
      "outputs": []
    },
    {
      "cell_type": "markdown",
      "source": [
        "### Paso 5: Realizar la Transcripción\n",
        "\n",
        "Con el modelo cargado y el audio en formato WAV, realizamos la transcripción. Mediremos el tiempo y volveremos a observar el uso de recursos.\n",
        "\n",
        "**¡Atención!** Durante la ejecución de esta celda:\n",
        "*   **Observa de nuevo los indicadores `RAM` y `GPU RAM`**. El pico de uso de VRAM suele ocurrir *durante* la transcripción.\n",
        "*   La opción `fp16` (definida en la Celda 6) controla si se usa precisión media (más rápido, menos VRAM) o completa (predeterminada)."
      ],
      "metadata": {
        "id": "IpKHoXhrS6Nn"
      }
    },
    {
      "cell_type": "code",
      "source": [
        "# Celda 12: Transcribir y Medir Tiempo/Recursos\n",
        "\n",
        "if modelo_cargado and ruta_audio_wav:\n",
        "    print(f\"\\n--- Transcribiendo {ruta_audio_wav.name} con '{MODELO_A_PROBAR}' (fp16={USE_FP16}) ---\")\n",
        "    start_time_transcribe = time.time()\n",
        "    try:\n",
        "        # Asegúrate de pasar la ruta como string\n",
        "        audio_path_str = str(ruta_audio_wav)\n",
        "\n",
        "        # ¡Llamada a la transcripción!\n",
        "        # verbose=None o False para menos salida en consola, True para detalles\n",
        "        resultado_transcripcion = modelo_cargado.transcribe(\n",
        "            audio_path_str,\n",
        "            language=config.TARGET_LANGUAGE, # Definido en config.py ('es')\n",
        "            initial_prompt=config.WHISPER_INITIAL_PROMPT, # Definido en config.py\n",
        "            fp16=USE_FP16,\n",
        "            verbose=None\n",
        "        )\n",
        "        end_time_transcribe = time.time()\n",
        "        tiempo_transcripcion = end_time_transcribe - start_time_transcribe\n",
        "        print(f\"Transcripción completada en {tiempo_transcripcion:.2f} segundos.\")\n",
        "\n",
        "        print(\"\\n>> ¡REVISA AHORA los indicadores RAM y GPU RAM de Colab para ver el uso MÁXIMO durante la transcripción! <<\")\n",
        "        print(\"Salida de nvidia-smi (uso de VRAM actual post-transcripción):\")\n",
        "        !nvidia-smi --query-gpu=memory.used,memory.total --format=csv,noheader,nounits\n",
        "\n",
        "    except Exception as e:\n",
        "        print(f\"Error crítico durante la transcripción: {e}\")\n",
        "        resultado_transcripcion = None\n",
        "else:\n",
        "    print(\"No se puede transcribir: el modelo no se cargó o el archivo WAV no está listo.\")"
      ],
      "metadata": {
        "id": "Si5aPlumLiKv"
      },
      "execution_count": null,
      "outputs": []
    },
    {
      "cell_type": "markdown",
      "source": [
        "### Paso 6: Ver Resultados\n",
        "\n",
        "Mostramos un resumen de los tiempos medidos y el texto transcrito obtenido."
      ],
      "metadata": {
        "id": "YfB-VwNES_Hh"
      }
    },
    {
      "cell_type": "code",
      "source": [
        "# Celda 14: Mostrar Resumen y Texto Transcrito\n",
        "\n",
        "print(\"\\n--- Resumen de la Ejecución ---\")\n",
        "print(f\"Modelo: {MODELO_A_PROBAR}\")\n",
        "print(f\"Dispositivo: {DEVICE} (FP16={USE_FP16})\")\n",
        "if ruta_audio_original:\n",
        "  print(f\"Archivo Original: {ruta_audio_original.name}\")\n",
        "else:\n",
        "  print(\"Archivo Original: (Error en ruta)\")\n",
        "print(f\"Tiempo de Carga del Modelo: {tiempo_carga_modelo:.2f} s\")\n",
        "print(f\"Tiempo de Transcripción: {tiempo_transcripcion:.2f} s\")\n",
        "\n",
        "if resultado_transcripcion:\n",
        "    print(\"\\n--- Texto Transcrito ---\")\n",
        "    # Accedemos al texto dentro del diccionario resultado\n",
        "    texto_final = resultado_transcripcion.get(\"text\", \"Error: No se encontró texto en el resultado.\")\n",
        "    print(texto_final.strip()) # .strip() para quitar espacios iniciales/finales\n",
        "    print(\"-\" * 26) # Separador\n",
        "\n",
        "    # (Opcional) Descomenta para ver los segmentos individuales con tiempos\n",
        "    # print(\"\\n--- Segmentos Detallados ---\")\n",
        "    # segments = resultado_transcripcion.get(\"segments\", [])\n",
        "    # if segments:\n",
        "    #     for segment in segments:\n",
        "    #         start = segment.get('start', 0)\n",
        "    #         end = segment.get('end', 0)\n",
        "    #         text = segment.get('text', '')\n",
        "    #         print(f\"[{start:>7.2f}s -> {end:>7.2f}s] {text.strip()}\")\n",
        "    # else:\n",
        "    #     print(\"No se encontraron segmentos detallados en el resultado.\")\n",
        "\n",
        "else:\n",
        "    print(\"\\nNo se obtuvo resultado de la transcripción debido a errores previos.\")"
      ],
      "metadata": {
        "id": "q7y3AxzmMCIH"
      },
      "execution_count": null,
      "outputs": []
    },
    {
      "cell_type": "markdown",
      "source": [
        "### Paso 7: Limpieza\n",
        "\n",
        "Finalmente, eliminamos el archivo WAV temporal que se creó durante la conversión."
      ],
      "metadata": {
        "id": "qa1vLZq2TG1g"
      }
    },
    {
      "cell_type": "code",
      "source": [
        "# Celda 16: Limpiar Archivo Temporal\n",
        "\n",
        "# Usar la función de limpieza de audio_handler\n",
        "# para eliminar el archivo _temp_playback.wav si existe\n",
        "try:\n",
        "    if 'audio_handler' in sys.modules:\n",
        "        print(\"\\nLimpiando archivo WAV temporal...\")\n",
        "        audio_handler.cleanup_temp_wav()\n",
        "        print(\"Limpieza completada.\")\n",
        "    else:\n",
        "        print(\"Módulo audio_handler no cargado, no se puede limpiar automáticamente.\")\n",
        "except Exception as e:\n",
        "    print(f\"Error durante la limpieza del archivo temporal: {e}\")"
      ],
      "metadata": {
        "id": "vKHQbXrRMVpf"
      },
      "execution_count": null,
      "outputs": []
    },
    {
      "cell_type": "markdown",
      "source": [
        "### Conclusión del Experimento\n",
        "\n",
        "¡Has ejecutado Whisper `large` en una GPU!\n",
        "\n",
        "*   Compara los **tiempos de carga y transcripción** con lo que experimentarías en CPU.\n",
        "*   Analiza el **uso de VRAM y RAM** que observaste. ¿Cabe en GPUs comunes?\n",
        "*   Revisa la **calidad del texto transcrito**. ¿Cumple tus expectativas?\n",
        "\n",
        "Puedes volver a ejecutar las celdas (especialmente desde la Celda 6) cambiando el archivo de audio, el modelo (`medium`, `small`...) o el parámetro `USE_FP16` para comparar resultados."
      ],
      "metadata": {
        "id": "etmR7DmTTSNH"
      }
    }
  ]
}